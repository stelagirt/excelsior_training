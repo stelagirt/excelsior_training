{
 "cells": [
  {
   "cell_type": "code",
   "execution_count": 2,
   "metadata": {},
   "outputs": [
    {
     "name": "stderr",
     "output_type": "stream",
     "text": [
      "2023-11-01 18:13:06,954 INFO Welcome to the CDS\n",
      "2023-11-01 18:13:06,955 INFO Sending request to https://cds.climate.copernicus.eu/api/v2/resources/reanalysis-era5-land\n",
      "2023-11-01 18:13:07,121 INFO Request is queued\n",
      "2023-11-01 18:13:08,167 INFO Request is running\n",
      "2023-11-01 18:17:25,575 INFO Request is completed\n",
      "2023-11-01 18:17:25,577 INFO Downloading https://download-0013-clone.copernicus-climate.eu/cache-compute-0013/cache/data5/adaptor.mars.internal-1698855402.122609-5167-11-ad7db957-5059-4728-9425-2112853dd935.zip to ERA5/temp.netcdf.zip (282.5K)\n",
      "2023-11-01 18:17:25,953 INFO Download rate 754.5K/s                             \n"
     ]
    },
    {
     "data": {
      "text/plain": [
       "Result(content_length=289266,content_type=application/zip,location=https://download-0013-clone.copernicus-climate.eu/cache-compute-0013/cache/data5/adaptor.mars.internal-1698855402.122609-5167-11-ad7db957-5059-4728-9425-2112853dd935.zip)"
      ]
     },
     "execution_count": 2,
     "metadata": {},
     "output_type": "execute_result"
    }
   ],
   "source": [
    "import cdsapi\n",
    "\n",
    "c = cdsapi.Client()\n",
    "\n",
    "\n",
    "c.retrieve(\n",
    "    'reanalysis-era5-land',\n",
    "    {\n",
    "        'variable': [\n",
    "            '2m_dewpoint_temperature', '2m_temperature',\n",
    "        ],\n",
    "        'year': '2021',\n",
    "        'month': '08',\n",
    "        'day': [\n",
    "            '01', '02', '03',\n",
    "            '04', '05', '06',\n",
    "            '07', '08', '09',\n",
    "            '10', '11', '12',\n",
    "            '13', '14', '15',\n",
    "            '16', '17', '18',\n",
    "            '19', '20', '21',\n",
    "            '22', '23', '24',\n",
    "            '25', '26', '27',\n",
    "            '28', '29', '30',\n",
    "            '31',\n",
    "        ],\n",
    "        'time': [\n",
    "            '00:00', '01:00', '02:00',\n",
    "            '03:00', '04:00', '05:00',\n",
    "            '06:00', '07:00', '08:00',\n",
    "            '09:00', '10:00', '11:00',\n",
    "            '12:00', '13:00', '14:00',\n",
    "            '15:00', '16:00', '17:00',\n",
    "            '18:00', '19:00', '20:00',\n",
    "            '21:00', '22:00', '23:00',\n",
    "        ],\n",
    "        'area': [\n",
    "            36, 32.2, 34.5,\n",
    "            34,\n",
    "        ],\n",
    "        'format': 'netcdf.zip',\n",
    "    },\n",
    "    'ERA5/temp.netcdf.zip')"
   ]
  },
  {
   "cell_type": "code",
   "execution_count": 3,
   "metadata": {},
   "outputs": [
    {
     "name": "stderr",
     "output_type": "stream",
     "text": [
      "2023-11-01 19:30:53,927 INFO Welcome to the CDS\n",
      "2023-11-01 19:30:53,929 INFO Sending request to https://cds.climate.copernicus.eu/api/v2/resources/reanalysis-era5-land\n",
      "2023-11-01 19:30:54,038 INFO Request is queued\n",
      "2023-11-01 19:30:55,081 INFO Request is running\n",
      "2023-11-01 19:35:12,433 INFO Request is completed\n",
      "2023-11-01 19:35:12,434 INFO Downloading https://download-0008-clone.copernicus-climate.eu/cache-compute-0008/cache/data1/adaptor.mars.internal-1698860075.8870225-30708-8-ee618967-d1d5-470f-8537-7a07bf2d8fbe.zip to ERA5/wind.netcdf.zip (277.4K)\n",
      "2023-11-01 19:35:12,785 INFO Download rate 794.8K/s                             \n"
     ]
    },
    {
     "data": {
      "text/plain": [
       "Result(content_length=284106,content_type=application/zip,location=https://download-0008-clone.copernicus-climate.eu/cache-compute-0008/cache/data1/adaptor.mars.internal-1698860075.8870225-30708-8-ee618967-d1d5-470f-8537-7a07bf2d8fbe.zip)"
      ]
     },
     "execution_count": 3,
     "metadata": {},
     "output_type": "execute_result"
    }
   ],
   "source": [
    "import cdsapi\n",
    "\n",
    "c = cdsapi.Client()\n",
    "\n",
    "\n",
    "c.retrieve(\n",
    "    'reanalysis-era5-land',\n",
    "    {\n",
    "        'variable': [\n",
    "            '10m_u_component_of_wind', '10m_v_component_of_wind',\n",
    "        ],\n",
    "        'year': '2021',\n",
    "        'month': '08',\n",
    "        'day': [\n",
    "            '01', '02', '03',\n",
    "            '04', '05', '06',\n",
    "            '07', '08', '09',\n",
    "            '10', '11', '12',\n",
    "            '13', '14', '15',\n",
    "            '16', '17', '18',\n",
    "            '19', '20', '21',\n",
    "            '22', '23', '24',\n",
    "            '25', '26', '27',\n",
    "            '28', '29', '30',\n",
    "            '31',\n",
    "        ],\n",
    "        'time': [\n",
    "            '00:00', '01:00', '02:00',\n",
    "            '03:00', '04:00', '05:00',\n",
    "            '06:00', '07:00', '08:00',\n",
    "            '09:00', '10:00', '11:00',\n",
    "            '12:00', '13:00', '14:00',\n",
    "            '15:00', '16:00', '17:00',\n",
    "            '18:00', '19:00', '20:00',\n",
    "            '21:00', '22:00', '23:00',\n",
    "        ],\n",
    "        'area': [\n",
    "            36, 32.2, 34.5,\n",
    "            34,\n",
    "        ],\n",
    "        'format': 'netcdf.zip',\n",
    "    },\n",
    "    'ERA5/wind.netcdf.zip')"
   ]
  },
  {
   "cell_type": "code",
   "execution_count": null,
   "metadata": {},
   "outputs": [],
   "source": []
  }
 ],
 "metadata": {
  "kernelspec": {
   "display_name": "fire_ffp",
   "language": "python",
   "name": "fire_ffp"
  },
  "language_info": {
   "codemirror_mode": {
    "name": "ipython",
    "version": 3
   },
   "file_extension": ".py",
   "mimetype": "text/x-python",
   "name": "python",
   "nbconvert_exporter": "python",
   "pygments_lexer": "ipython3",
   "version": "3.9.16"
  }
 },
 "nbformat": 4,
 "nbformat_minor": 2
}
