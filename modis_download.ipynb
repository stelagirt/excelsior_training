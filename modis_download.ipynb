{
 "cells": [
  {
   "cell_type": "code",
   "execution_count": 101,
   "metadata": {},
   "outputs": [],
   "source": [
    "import pymodis\n",
    "from pymodis import downmodis"
   ]
  },
  {
   "cell_type": "code",
   "execution_count": 102,
   "metadata": {},
   "outputs": [],
   "source": [
    "import ssl\n",
    "ssl._create_default_https_context = ssl._create_unverified_context"
   ]
  },
  {
   "cell_type": "code",
   "execution_count": 103,
   "metadata": {},
   "outputs": [],
   "source": [
    "#tiles to download-Cyprus region\n",
    "tiles = 'h20v05'"
   ]
  },
  {
   "cell_type": "markdown",
   "metadata": {},
   "source": [
    "<b>NDVI, EVI:</b> MOD13A1, MYD13A1 <br>\n",
    "<b>LST 1-Day:</b> MOD11A1, MYD11A1 <br>\n",
    "<b>LST 8-Day:</b> MOD11A2, MYD11A2 <br>\n",
    "MOD products are found in MOLT directory and MYD in MOLA"
   ]
  },
  {
   "cell_type": "code",
   "execution_count": 104,
   "metadata": {},
   "outputs": [],
   "source": [
    "# starting day \n",
    "day = \"2021-07-12\"\n",
    "# finishing day \n",
    "enddate= \"2021-09-30\"\n",
    "# username\n",
    "user = 'stelgirt'\n",
    "url=\"https://e4ftl01.cr.usgs.gov/\"\n",
    "#password\n",
    "password = 'Kamilia90'\n",
    "# destination folder\n",
    "dest='NDVI_HDF/'\n",
    "#log\n",
    "delta=1\n",
    "#product= 'MOD13A1.061'\n",
    "#path='MOLT'\n",
    "product= 'MYD13A1.061'\n",
    "path='MOLA'\n",
    "\n",
    "#modisDown = downmodis.downModis(destinationFolder=dest,password=password,user=user,url=url,product=product,tiles=tiles,today=day,enddate=enddate)\n",
    "modisDown = downmodis.downModis(destinationFolder=dest, tiles=tiles, today=day, enddate=enddate,url = url,\n",
    "                                 delta = delta, user = user, password = password,product=product, path=path,\n",
    "                                 jpg=False, debug=False, timeout=30, checkgdal=True)\n",
    "modisDown.connect()"
   ]
  },
  {
   "cell_type": "code",
   "execution_count": 105,
   "metadata": {},
   "outputs": [],
   "source": [
    "dates_list = modisDown.getListDays()"
   ]
  },
  {
   "cell_type": "code",
   "execution_count": 106,
   "metadata": {},
   "outputs": [
    {
     "data": {
      "text/plain": [
       "['2021.09.22', '2021.09.06', '2021.08.21', '2021.08.05', '2021.07.20']"
      ]
     },
     "execution_count": 106,
     "metadata": {},
     "output_type": "execute_result"
    }
   ],
   "source": [
    "dates_list"
   ]
  },
  {
   "cell_type": "code",
   "execution_count": 107,
   "metadata": {},
   "outputs": [],
   "source": [
    "images_list = []\n",
    "for day in dates_list:\n",
    "    image = modisDown.getFilesList(day)[0]\n",
    "    images_list.append(image)"
   ]
  },
  {
   "cell_type": "code",
   "execution_count": 108,
   "metadata": {},
   "outputs": [
    {
     "data": {
      "text/plain": [
       "['MYD13A1.A2021265.h20v05.061.2021282014223.hdf',\n",
       " 'MYD13A1.A2021249.h20v05.061.2021266012811.hdf',\n",
       " 'MYD13A1.A2021233.h20v05.061.2021251111410.hdf',\n",
       " 'MYD13A1.A2021217.h20v05.061.2021234042457.hdf',\n",
       " 'MYD13A1.A2021201.h20v05.061.2021218025157.hdf']"
      ]
     },
     "execution_count": 108,
     "metadata": {},
     "output_type": "execute_result"
    }
   ],
   "source": [
    "images_list"
   ]
  },
  {
   "cell_type": "code",
   "execution_count": 109,
   "metadata": {},
   "outputs": [],
   "source": [
    "files_to_download = modisDown.checkDataExist(images_list,move=False)"
   ]
  },
  {
   "cell_type": "code",
   "execution_count": 110,
   "metadata": {},
   "outputs": [
    {
     "data": {
      "text/plain": [
       "['MYD13A1.A2021233.h20v05.061.2021251111410.hdf',\n",
       " 'MYD13A1.A2021249.h20v05.061.2021266012811.hdf',\n",
       " 'MYD13A1.A2021201.h20v05.061.2021218025157.hdf',\n",
       " 'MYD13A1.A2021217.h20v05.061.2021234042457.hdf',\n",
       " 'MYD13A1.A2021265.h20v05.061.2021282014223.hdf']"
      ]
     },
     "execution_count": 110,
     "metadata": {},
     "output_type": "execute_result"
    }
   ],
   "source": [
    "files_to_download"
   ]
  },
  {
   "cell_type": "code",
   "execution_count": 111,
   "metadata": {},
   "outputs": [],
   "source": [
    "if files_to_download == []:\n",
    "    print(f'Images are already in the directory {dest}')\n",
    "else:\n",
    "    modisDown.downloadsAllDay()"
   ]
  },
  {
   "cell_type": "code",
   "execution_count": null,
   "metadata": {},
   "outputs": [],
   "source": []
  }
 ],
 "metadata": {
  "kernelspec": {
   "display_name": "fire_ffp",
   "language": "python",
   "name": "fire_ffp"
  },
  "language_info": {
   "codemirror_mode": {
    "name": "ipython",
    "version": 3
   },
   "file_extension": ".py",
   "mimetype": "text/x-python",
   "name": "python",
   "nbconvert_exporter": "python",
   "pygments_lexer": "ipython3",
   "version": "3.9.16"
  }
 },
 "nbformat": 4,
 "nbformat_minor": 2
}
